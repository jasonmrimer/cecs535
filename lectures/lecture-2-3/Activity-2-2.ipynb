{
 "cells": [
  {
   "cell_type": "code",
   "execution_count": 5,
   "metadata": {
    "collapsed": false,
    "slideshow": {
     "slide_type": "slide"
    },
    "pycharm": {
     "is_executing": false
    }
   },
   "outputs": [
    {
     "name": "stdout",
     "text": [
      "The sql extension is already loaded. To reload it, use:\n  %reload_ext sql\n"
     ],
     "output_type": "stream"
    },
    {
     "data": {
      "text/plain": "'Connected: @None'"
     },
     "metadata": {},
     "output_type": "execute_result",
     "execution_count": 5
    }
   ],
   "source": [
    "%load_ext sql\n",
    "%sql sqlite://"
   ]
  },
  {
   "cell_type": "code",
   "execution_count": 6,
   "metadata": {
    "collapsed": false,
    "slideshow": {
     "slide_type": "fragment"
    },
    "pycharm": {
     "is_executing": false
    }
   },
   "outputs": [
    {
     "name": "stdout",
     "text": [
      " * sqlite://\nDone.\nDone.\n1 rows affected.\n1 rows affected.\n1 rows affected.\n1 rows affected.\n"
     ],
     "output_type": "stream"
    },
    {
     "data": {
      "text/plain": "[]"
     },
     "metadata": {},
     "output_type": "execute_result",
     "execution_count": 6
    }
   ],
   "source": [
    "%%sql drop table if exists product;\n",
    "create table product(\n",
    "       pname        varchar primary key, -- name of the product\n",
    "       price        money,               -- price of the product\n",
    "       category     varchar,             -- category\n",
    "       manufacturer varchar NOT NULL     -- manufacturer\n",
    ");\n",
    "insert into product values('Gizmo', 19.99, 'Gadgets', 'GizmoWorks');\n",
    "insert into product values('PowerGizmo', 29.99, 'Gadgets', 'GizmoWorks');\n",
    "insert into product values('MultiTouch', 203.99, 'Household', 'Hitachi');\n",
    "insert into product values('SingleTouch', 149.99, 'Photography', 'Canon');"
   ]
  },
  {
   "cell_type": "markdown",
   "metadata": {},
   "source": [
    "Activity 2-2:\n",
    "-------------\n",
    "\n",
    "Single table queries"
   ]
  },
  {
   "cell_type": "markdown",
   "metadata": {},
   "source": [
    "Exercise #1\n",
    "-----------\n",
    "\n",
    "Try writing a query to get an output table of all the products with \"Touch\" in the name, showing just their name and price, and sorted alphabetically by manufacturer."
   ]
  },
  {
   "cell_type": "markdown",
   "metadata": {
    "slideshow": {
     "slide_type": "slide"
    }
   },
   "source": [
    "Let's look at the products first:"
   ]
  },
  {
   "cell_type": "code",
   "execution_count": 7,
   "metadata": {
    "collapsed": false,
    "slideshow": {
     "slide_type": "fragment"
    },
    "pycharm": {
     "is_executing": false
    }
   },
   "outputs": [
    {
     "name": "stdout",
     "text": [
      " * sqlite://\nDone.\n"
     ],
     "output_type": "stream"
    },
    {
     "data": {
      "text/plain": "[(u'Gizmo', 19.99, u'Gadgets', u'GizmoWorks'),\n (u'PowerGizmo', 29.99, u'Gadgets', u'GizmoWorks'),\n (u'MultiTouch', 203.99, u'Household', u'Hitachi'),\n (u'SingleTouch', 149.99, u'Photography', u'Canon')]",
      "text/html": "<table>\n    <tr>\n        <th>pname</th>\n        <th>price</th>\n        <th>category</th>\n        <th>manufacturer</th>\n    </tr>\n    <tr>\n        <td>Gizmo</td>\n        <td>19.99</td>\n        <td>Gadgets</td>\n        <td>GizmoWorks</td>\n    </tr>\n    <tr>\n        <td>PowerGizmo</td>\n        <td>29.99</td>\n        <td>Gadgets</td>\n        <td>GizmoWorks</td>\n    </tr>\n    <tr>\n        <td>MultiTouch</td>\n        <td>203.99</td>\n        <td>Household</td>\n        <td>Hitachi</td>\n    </tr>\n    <tr>\n        <td>SingleTouch</td>\n        <td>149.99</td>\n        <td>Photography</td>\n        <td>Canon</td>\n    </tr>\n</table>"
     },
     "metadata": {},
     "output_type": "execute_result",
     "execution_count": 7
    }
   ],
   "source": [
    "%sql select * from product;"
   ]
  },
  {
   "cell_type": "markdown",
   "metadata": {},
   "source": [
    "Write your query here:"
   ]
  },
  {
   "cell_type": "code",
   "execution_count": 9,
   "metadata": {
    "collapsed": false,
    "pycharm": {
     "is_executing": false
    }
   },
   "outputs": [
    {
     "name": "stdout",
     "text": [
      " * sqlite://\nDone.\n"
     ],
     "output_type": "stream"
    },
    {
     "data": {
      "text/plain": "[(u'MultiTouch', 203.99), (u'SingleTouch', 149.99)]",
      "text/html": "<table>\n    <tr>\n        <th>pname</th>\n        <th>price</th>\n    </tr>\n    <tr>\n        <td>MultiTouch</td>\n        <td>203.99</td>\n    </tr>\n    <tr>\n        <td>SingleTouch</td>\n        <td>149.99</td>\n    </tr>\n</table>"
     },
     "metadata": {},
     "output_type": "execute_result",
     "execution_count": 9
    }
   ],
   "source": [
    "%sql Select pname, price from product where pname LIKE '%Touch%'"
   ]
  },
  {
   "cell_type": "markdown",
   "metadata": {},
   "source": [
    "Next, write a query that returns the _distinct_ names of manufacturers that make products with \"Gizmo\" in the name:"
   ]
  },
  {
   "cell_type": "code",
   "execution_count": 6,
   "metadata": {
    "collapsed": false
   },
   "outputs": [
    {
     "name": "stdout",
     "output_type": "stream",
     "text": [
      "Done.\n"
     ]
    },
    {
     "data": {
      "text/html": [
       "<table>\n",
       "    <tr>\n",
       "        <th>manufacturer</th>\n",
       "    </tr>\n",
       "    <tr>\n",
       "        <td>GizmoWorks</td>\n",
       "    </tr>\n",
       "</table>"
      ],
      "text/plain": [
       "[(u'GizmoWorks',)]"
      ]
     },
     "execution_count": 6,
     "metadata": {},
     "output_type": "execute_result"
    }
   ],
   "source": [
    "%sql Select distinct manufacturer from product where pname like '%Gizmo%'"
   ]
  },
  {
   "cell_type": "markdown",
   "metadata": {
    "slideshow": {
     "slide_type": "slide"
    }
   },
   "source": [
    "Exercise #2:\n",
    "------------\n",
    "\n",
    "Try some of these queries but first guess what they return."
   ]
  },
  {
   "cell_type": "code",
   "execution_count": 10,
   "metadata": {
    "collapsed": false,
    "slideshow": {
     "slide_type": "subslide"
    },
    "pycharm": {
     "is_executing": false
    }
   },
   "outputs": [
    {
     "name": "stdout",
     "text": [
      " * sqlite://\nDone.\n"
     ],
     "output_type": "stream"
    },
    {
     "data": {
      "text/plain": "[(u'Gadgets',), (u'Household',), (u'Photography',)]",
      "text/html": "<table>\n    <tr>\n        <th>category</th>\n    </tr>\n    <tr>\n        <td>Gadgets</td>\n    </tr>\n    <tr>\n        <td>Household</td>\n    </tr>\n    <tr>\n        <td>Photography</td>\n    </tr>\n</table>"
     },
     "metadata": {},
     "output_type": "execute_result",
     "execution_count": 10
    }
   ],
   "source": [
    "%sql SELECT DISTINCT category FROM product ORDER BY category;"
   ]
  },
  {
   "cell_type": "code",
   "execution_count": 11,
   "metadata": {
    "collapsed": false,
    "slideshow": {
     "slide_type": "subslide"
    },
    "pycharm": {
     "is_executing": false
    }
   },
   "outputs": [
    {
     "name": "stdout",
     "text": [
      " * sqlite://\nDone.\n"
     ],
     "output_type": "stream"
    },
    {
     "data": {
      "text/plain": "[(u'Gadgets',), (u'Household',), (u'Gadgets',), (u'Photography',)]",
      "text/html": "<table>\n    <tr>\n        <th>category</th>\n    </tr>\n    <tr>\n        <td>Gadgets</td>\n    </tr>\n    <tr>\n        <td>Household</td>\n    </tr>\n    <tr>\n        <td>Gadgets</td>\n    </tr>\n    <tr>\n        <td>Photography</td>\n    </tr>\n</table>"
     },
     "metadata": {},
     "output_type": "execute_result",
     "execution_count": 11
    }
   ],
   "source": [
    "%sql SELECT category FROM product ORDER BY pname;"
   ]
  },
  {
   "cell_type": "code",
   "execution_count": 12,
   "metadata": {
    "collapsed": false,
    "slideshow": {
     "slide_type": "subslide"
    },
    "pycharm": {
     "is_executing": false
    }
   },
   "outputs": [
    {
     "name": "stdout",
     "text": [
      " * sqlite://\nDone.\n"
     ],
     "output_type": "stream"
    },
    {
     "data": {
      "text/plain": "[(u'Gadgets',), (u'Household',), (u'Photography',)]",
      "text/html": "<table>\n    <tr>\n        <th>category</th>\n    </tr>\n    <tr>\n        <td>Gadgets</td>\n    </tr>\n    <tr>\n        <td>Household</td>\n    </tr>\n    <tr>\n        <td>Photography</td>\n    </tr>\n</table>"
     },
     "metadata": {},
     "output_type": "execute_result",
     "execution_count": 12
    }
   ],
   "source": [
    "%sql SELECT DISTINCT category FROM product ORDER BY pname;"
   ]
  },
  {
   "cell_type": "code",
   "execution_count": null,
   "metadata": {
    "collapsed": true
   },
   "outputs": [],
   "source": []
  }
 ],
 "metadata": {
  "kernelspec": {
   "display_name": "Python 2",
   "language": "python",
   "name": "python2"
  },
  "language_info": {
   "codemirror_mode": {
    "name": "ipython",
    "version": 2
   },
   "file_extension": ".py",
   "mimetype": "text/x-python",
   "name": "python",
   "nbconvert_exporter": "python",
   "pygments_lexer": "ipython2",
   "version": "2.7.10"
  },
  "pycharm": {
   "stem_cell": {
    "cell_type": "raw",
    "source": [],
    "metadata": {
     "collapsed": false
    }
   }
  }
 },
 "nbformat": 4,
 "nbformat_minor": 0
}