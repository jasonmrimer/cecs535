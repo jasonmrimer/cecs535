{
 "cells": [
  {
   "cell_type": "code",
   "execution_count": 1,
   "metadata": {},
   "outputs": [
    {
     "data": {
      "text/plain": [
       "u'Connected: @'"
      ]
     },
     "execution_count": 1,
     "metadata": {},
     "output_type": "execute_result"
    }
   ],
   "source": [
    "%load_ext sql\n",
    "%sql sqlite:///"
   ]
  },
  {
   "cell_type": "markdown",
   "metadata": {},
   "source": [
    "Problem Set 2\n",
    "=======\n",
    "\n",
    "\n",
    "### Instructions / Notes:\n",
    "\n",
    "**_Read these carefully_**\n",
    "\n",
    "* This problem set _does not_ come with a dataset to load; instead, make your own instances of tables, either as solutions to the problems or for testing solutions to the problems.\n",
    "* You **may** create new IPython notebook cells to use for e.g. testing, debugging, exploring, etc.- this is encouraged in fact!- **just make sure that your final answer for each question is _in its own cell_ and _clearly indicated_**\n",
    "* When you see `In [*]:` to the left of the cell you are executing, this means that the code / query is _running_.\n",
    "    * **If the cell is hanging- i.e. running for too long: To restart the SQL connection, you must restart the entire python kernel**\n",
    "    * To restart kernel using the menu bar: \"Kernel >> Restart >> Clear all outputs & restart\"), then re-execute the sql connection cell at top\n",
    "    * You will also need to restart the connection if you want to load a different version of the database file\n",
    "* Remember:\n",
    "    * `%sql [SQL]` is for _single line_ SQL queries\n",
    "    * `%%sql [SQL]` is for _multi line_ SQL queries\n",
    "* **See Piazza for submission instructions**\n",
    "* _Have fun!_"
   ]
  },
  {
   "cell_type": "markdown",
   "metadata": {},
   "source": [
    "Problem 1\n",
    "---------\n",
    "\n",
    "**_[15 points total]_**\n",
    "\n",
    "For each part of this problem you will need to provide a _single_ SQL query which will check whether a certain condition holds on a specific instance of a relation, in the following way: **your query should return an empty result if and only if the condition holds on the instance.**  (If the condition _doesn't hold_, your query should return something non-empty, but it doesn't matter what this is).\n",
    "\n",
    "Note our language here: the conditions that we specify cannot be proved to hold **in general** without knowing the externally-defined functional dependencies; so what we mean is, _check whether they **could** hold in general for the relation, given any specific set of tuples_.\n",
    "\n",
    "You may assume that there will be no `NULL` values in the tables, **and you may assume that the relations are _sets_ rather than multisets**, but otherwise your query should work for general instances.  We define the schemas of the tables used below for convenience, but in this problem you will need to construct your own test tables if you wish to use them to check your answers!"
   ]
  },
  {
   "cell_type": "code",
   "execution_count": 3,
   "metadata": {},
   "outputs": [
    {
     "name": "stdout",
     "output_type": "stream",
     "text": [
      " * sqlite:///\n",
      "Done.\n"
     ]
    },
    {
     "data": {
      "text/plain": [
       "[]"
      ]
     },
     "execution_count": 3,
     "metadata": {},
     "output_type": "execute_result"
    }
   ],
   "source": [
    "%sql  create table T(X int , y int);"
   ]
  },
  {
   "cell_type": "code",
   "execution_count": 17,
   "metadata": {},
   "outputs": [
    {
     "name": "stdout",
     "output_type": "stream",
     "text": [
      " * sqlite:///\n",
      "Done.\n",
      "Done.\n",
      "Done.\n",
      "Done.\n",
      "Done.\n",
      "Done.\n",
      "Done.\n",
      "Done.\n"
     ]
    },
    {
     "data": {
      "text/plain": [
       "[]"
      ]
     },
     "execution_count": 17,
     "metadata": {},
     "output_type": "execute_result"
    }
   ],
   "source": [
    "%%sql\n",
    "DROP TABLE IF EXISTS R; CREATE TABLE R (W INT, X INT, Y INT, Z INT);\n",
    "DROP TABLE IF EXISTS Cat; CREATE TABLE Cat(cat_name TEXT, breed TEXT, owner_name TEXT);\n",
    "DROP TABLE IF EXISTS Owner; CREATE TABLE Owner(owner_name TEXT, ssn INT, hometown TEXT);\n",
    "DROP TABLE IF EXISTS S; CREATE TABLE S (A INT, B INT, C INT, D INT, E INT);"
   ]
  },
  {
   "cell_type": "code",
   "execution_count": 6,
   "metadata": {},
   "outputs": [
    {
     "name": "stdout",
     "output_type": "stream",
     "text": [
      " * sqlite:///\n",
      "Done.\n"
     ]
    },
    {
     "data": {
      "text/html": [
       "<table>\n",
       "    <tr>\n",
       "        <th>X</th>\n",
       "        <th>y</th>\n",
       "        <th>X_1</th>\n",
       "        <th>y_1</th>\n",
       "    </tr>\n",
       "    <tr>\n",
       "        <td>1</td>\n",
       "        <td>2</td>\n",
       "        <td>1</td>\n",
       "        <td>3</td>\n",
       "    </tr>\n",
       "    <tr>\n",
       "        <td>1</td>\n",
       "        <td>3</td>\n",
       "        <td>1</td>\n",
       "        <td>2</td>\n",
       "    </tr>\n",
       "    <tr>\n",
       "        <td>1</td>\n",
       "        <td>3</td>\n",
       "        <td>1</td>\n",
       "        <td>2</td>\n",
       "    </tr>\n",
       "    <tr>\n",
       "        <td>1</td>\n",
       "        <td>2</td>\n",
       "        <td>1</td>\n",
       "        <td>3</td>\n",
       "    </tr>\n",
       "</table>"
      ],
      "text/plain": [
       "[(1, 2, 1, 3), (1, 3, 1, 2), (1, 3, 1, 2), (1, 2, 1, 3)]"
      ]
     },
     "execution_count": 6,
     "metadata": {},
     "output_type": "execute_result"
    }
   ],
   "source": [
    "%sql select * from T t1, T t2 where t1.x=t2.x and t1.y != t2.y\n"
   ]
  },
  {
   "cell_type": "markdown",
   "metadata": {},
   "source": [
    "### Part (a)\n",
    "\n",
    "**_[5 points]_**\n",
    "\n",
    "$\\{X, Y\\}$ is a **superkey** for a relation $R(W,X,Y,Z)$."
   ]
  },
  {
   "cell_type": "code",
   "execution_count": 11,
   "metadata": {},
   "outputs": [
    {
     "name": "stdout",
     "output_type": "stream",
     "text": [
      " * sqlite:///\n",
      "1 rows affected.\n"
     ]
    },
    {
     "data": {
      "text/plain": [
       "[]"
      ]
     },
     "execution_count": 11,
     "metadata": {},
     "output_type": "execute_result"
    }
   ],
   "source": [
    "%sql insert into S values (1,2);\n"
   ]
  },
  {
   "cell_type": "code",
   "execution_count": null,
   "metadata": {
    "collapsed": true
   },
   "outputs": [],
   "source": [
    "%%sql"
   ]
  },
  {
   "cell_type": "code",
   "execution_count": 12,
   "metadata": {},
   "outputs": [
    {
     "name": "stdout",
     "output_type": "stream",
     "text": [
      " * sqlite:///\n",
      "Done.\n"
     ]
    },
    {
     "data": {
      "text/html": [
       "<table>\n",
       "    <tr>\n",
       "        <th>x</th>\n",
       "        <th>y</th>\n",
       "        <th>x_1</th>\n",
       "        <th>y_1</th>\n",
       "    </tr>\n",
       "</table>"
      ],
      "text/plain": [
       "[]"
      ]
     },
     "execution_count": 12,
     "metadata": {},
     "output_type": "execute_result"
    }
   ],
   "source": [
    "%sql select * from S t1, S t2 where t1.x=t2.x and t1.y != t2.y\n"
   ]
  },
  {
   "cell_type": "code",
   "execution_count": 13,
   "metadata": {},
   "outputs": [
    {
     "name": "stdout",
     "output_type": "stream",
     "text": [
      " * sqlite:///\n",
      "Done.\n"
     ]
    },
    {
     "data": {
      "text/html": [
       "<table>\n",
       "    <tr>\n",
       "        <th>x</th>\n",
       "        <th>y</th>\n",
       "    </tr>\n",
       "    <tr>\n",
       "        <td>1</td>\n",
       "        <td>2</td>\n",
       "    </tr>\n",
       "    <tr>\n",
       "        <td>2</td>\n",
       "        <td>3</td>\n",
       "    </tr>\n",
       "    <tr>\n",
       "        <td>3</td>\n",
       "        <td>4</td>\n",
       "    </tr>\n",
       "    <tr>\n",
       "        <td>1</td>\n",
       "        <td>2</td>\n",
       "    </tr>\n",
       "</table>"
      ],
      "text/plain": [
       "[(1, 2), (2, 3), (3, 4), (1, 2)]"
      ]
     },
     "execution_count": 13,
     "metadata": {},
     "output_type": "execute_result"
    }
   ],
   "source": [
    "%sql select * from S;"
   ]
  },
  {
   "cell_type": "markdown",
   "metadata": {},
   "source": [
    "### Part (b)\n",
    "\n",
    "**_[5 points]_**\n",
    "\n",
    "The individual attributes of a relation $R(W,X,Y,Z)$ are each keys."
   ]
  },
  {
   "cell_type": "code",
   "execution_count": 21,
   "metadata": {},
   "outputs": [
    {
     "name": "stdout",
     "output_type": "stream",
     "text": [
      " * sqlite:///\n",
      "Done.\n"
     ]
    },
    {
     "data": {
      "text/html": [
       "<table>\n",
       "    <tr>\n",
       "        <th>X,W,Y,Z all keys</th>\n",
       "    </tr>\n",
       "    <tr>\n",
       "        <td>1</td>\n",
       "    </tr>\n",
       "</table>"
      ],
      "text/plain": [
       "[(1,)]"
      ]
     },
     "execution_count": 21,
     "metadata": {},
     "output_type": "execute_result"
    }
   ],
   "source": [
    "%%sql\n",
    "\n",
    "select not exists (\n",
    "        select x from R group by x HAVING count(*)>1) \n",
    "and not exists (\n",
    "        select y from R group by y HAVING count(*)>1) \n",
    "and not exists (\n",
    "        select z from R group by z HAVING count(*)>1) \n",
    "and not exists (\n",
    "        select w from R group by w HAVING count(*)>1) \"X,W,Y,Z all keys\""
   ]
  },
  {
   "cell_type": "code",
   "execution_count": 20,
   "metadata": {},
   "outputs": [
    {
     "name": "stdout",
     "output_type": "stream",
     "text": [
      " * sqlite:///\n",
      "Done.\n"
     ]
    },
    {
     "data": {
      "text/html": [
       "<table>\n",
       "    <tr>\n",
       "        <th>W</th>\n",
       "        <th>X</th>\n",
       "        <th>Y</th>\n",
       "        <th>Z</th>\n",
       "    </tr>\n",
       "</table>"
      ],
      "text/plain": [
       "[]"
      ]
     },
     "execution_count": 20,
     "metadata": {},
     "output_type": "execute_result"
    }
   ],
   "source": [
    "%sql select * from R"
   ]
  },
  {
   "cell_type": "markdown",
   "metadata": {},
   "source": [
    "### Part (c)\n",
    "\n",
    "**_[5 points]_**\n",
    "\n",
    "A **multivalued dependency (MVD)** is defined as follows: let $R$ be a schema i.e. a set of attributes, and consider two _sets of attributes_ $A\\subseteq R$ and $B\\subseteq R$.  We say that a multivalued dependency (MVD), written:\n",
    "\n",
    "$A\\twoheadrightarrow B$\n",
    "\n",
    "**holds on $R$** if whenever there are two tuples $t_1,t_2$ such that $t_1[A] = t_2[A]$, there also exists a third tuple $t_3$ such that:\n",
    "\n",
    "* $t_3[A] = t_1[A] = t_2[A]$\n",
    "* $t_3[B] = t_1[B]$\n",
    "* $t_3[R\\setminus B] = t_2[R\\setminus B]$\n",
    "\n",
    "Note that $R\\setminus B$ is all the attributes in $R$ that are not in $B$, and that $t_3$ need not be distinct from $t_1$ or $t_2$.  Note especially that an MVD holds on an entire _relation_, meaning that any two tuples (in any order) in the relation should satisfy the above conditions if the MVD holds.  **See the end of the lecture 7 slides for more on MVDs!**\n",
    "\n",
    "\n",
    "In this problem, write your query to check if the MVD $\\{B\\}\\twoheadrightarrow \\{D,E\\}$ holds for a relation $S(A, B, C, D, E)$."
   ]
  },
  {
   "cell_type": "code",
   "execution_count": 38,
   "metadata": {},
   "outputs": [
    {
     "name": "stdout",
     "output_type": "stream",
     "text": [
      " * sqlite:///\n",
      "Done.\n"
     ]
    },
    {
     "data": {
      "text/html": [
       "<table>\n",
       "    <tr>\n",
       "        <th>C<br><br>)<br>)</th>\n",
       "    </tr>\n",
       "    <tr>\n",
       "        <td>1</td>\n",
       "    </tr>\n",
       "</table>"
      ],
      "text/plain": [
       "[(1,)]"
      ]
     },
     "execution_count": 38,
     "metadata": {},
     "output_type": "execute_result"
    }
   ],
   "source": [
    "%%sql \n",
    "select not exists(\n",
    "select * from S s1, S s2\n",
    "where \n",
    "s1.b=s2.b and not exists(\n",
    "\n",
    "\n",
    "select * from S s3 where s3.b=s1.b and s1.D=s3.D and s1.E=s3.E and s1.A=s2.A and s1.C=s2.C\n",
    "\n",
    ")\n",
    ");\n"
   ]
  },
  {
   "cell_type": "markdown",
   "metadata": {},
   "source": [
    "Problem 2\n",
    "---------\n",
    "\n",
    "**_[20 points total]_**\n",
    "\n",
    "### Part (a)\n",
    "\n",
    "**_[10 points]_**\n",
    "\n",
    "Consider a relation $T(V,W,X,Y,Z)$.  Provide _two different sets_ of functional dependencies, `F_1` and `F_2`, such that each one results in $T$ having the **largest number of distinct keys** $T$ could possibly have.\n",
    "\n",
    "Store your lists of FDs as python lists having elements that are _pairs of sets_; for example to set `F_1` as the set consisting of two FDs, $\\{V,W\\}\\rightarrow\\{X,Y\\}$ and $\\{W\\}\\rightarrow\\{X\\}$:\n",
    "\n",
    "```python\n",
    "F_1 = [(set(['V','W']), set(['X','Y'])), (set(['W']), set(['X']))]\n",
    "```\n",
    "\n",
    "*Note: the above is not necessarily one of the FDs- just an example of the syntax!\n",
    "\n",
    "*Hint: You may use any of the functions from the lecture activities if they seem helpful!  However your final answer should not involve these functions directly, nor are they necessary for this problem"
   ]
  },
  {
   "cell_type": "code",
   "execution_count": 4,
   "metadata": {
    "collapsed": true
   },
   "outputs": [],
   "source": [
    "F_1 = []\n",
    "\n",
    "F_2 = []"
   ]
  },
  {
   "cell_type": "markdown",
   "metadata": {},
   "source": [
    "### Part (b)\n",
    "\n",
    "**_[10 points]_**\n",
    "\n",
    "Consider a schema $T(A_1,...,A_n)$ which has FDs $\\{A_i,A_{i+1}\\}\\rightarrow\\{A_{i+2}\\}$ for $i=1,...,n-2$.  Create an instance of $T$, for $n=4$, for which these FDs hold, and no other ones do- i.e. **all other FDs are violated.**\n",
    "\n",
    "Use a series of `INSERT` statements below to populate the table `T`:"
   ]
  },
  {
   "cell_type": "code",
   "execution_count": null,
   "metadata": {},
   "outputs": [],
   "source": [
    "%%sql\n",
    "DROP TABLE IF EXISTS T; \n",
    "CREATE TABLE T (A int, B int, C int, D int);"
   ]
  },
  {
   "cell_type": "markdown",
   "metadata": {},
   "source": [
    "Problem 3\n",
    "---------\n",
    "\n",
    "**_[30 points total]_**"
   ]
  },
  {
   "cell_type": "markdown",
   "metadata": {},
   "source": [
    "Consider a relation $R(X,Y,Z)$.  In each part of this problem you will be given a condition, and you need to create the following three instances of $R$ (as tables in SQL):\n",
    "\n",
    "1. An instance $A$\n",
    "2. An instance $B$ which differs from $A$ only in that it has one **_fewer_** row. Any row in B should also be there in A.\n",
    "3. An instance $C$ which differs from $A$ only in that it has one **_additional_** row. Apart from the additional row, all the rows of C are same as A."
   ]
  },
  {
   "cell_type": "markdown",
   "metadata": {},
   "source": [
    "### Part (a)\n",
    "\n",
    "**_[10 points]_**\n",
    "\n",
    "Create $A$, $B$ and $C$ such that each individual attribute is a key for $A$, but none of the individual attributes is a key for $B$ or $C$.  If you believe that $B$ and/or $C$ cannot be created, provide them as an empty table."
   ]
  },
  {
   "cell_type": "code",
   "execution_count": null,
   "metadata": {
    "collapsed": true
   },
   "outputs": [],
   "source": [
    "%%sql\n",
    "DROP TABLE IF EXISTS A;\n",
    "DROP TABLE IF EXISTS B;\n",
    "DROP TABLE IF EXISTS C;"
   ]
  },
  {
   "cell_type": "markdown",
   "metadata": {},
   "source": [
    "### Part (b)\n",
    "\n",
    "**_[10 points]_**\n",
    "\n",
    "Create $A$, $B$ and $C$ such that ONLY the functional dependencies $\\{Z\\} \\rightarrow \\{Y\\}$ and $\\{X,Z\\} \\rightarrow \\{Y\\}$ hold on $B$, ONLY the functional dependency $\\{X,Z\\} \\rightarrow \\{Y\\}$ holds on $A$ and NO functional dependencies hold on $C$. If you believe $B$ and/or $C$ cannot be created, provide them as an empty table.\n",
    "\n"
   ]
  },
  {
   "cell_type": "code",
   "execution_count": null,
   "metadata": {
    "collapsed": true
   },
   "outputs": [],
   "source": [
    "%%sql\n",
    "DROP TABLE IF EXISTS A;\n",
    "DROP TABLE IF EXISTS B;\n",
    "DROP TABLE IF EXISTS C;"
   ]
  },
  {
   "cell_type": "markdown",
   "metadata": {},
   "source": [
    "### Part (c)\n",
    "\n",
    "**_[10 points]_**\n",
    "\n",
    "Create $A$, $B$ and $C$ such that the MVD $Z\\twoheadrightarrow X$ holds in $A$, but not in $B$ or $C$.  If you believe that $B$ and/or $C$ cannot be created, provide them as an empty table.\n",
    "\n"
   ]
  },
  {
   "cell_type": "code",
   "execution_count": null,
   "metadata": {},
   "outputs": [],
   "source": [
    "%%sql\n",
    "DROP TABLE IF EXISTS A;\n",
    "DROP TABLE IF EXISTS B;\n",
    "DROP TABLE IF EXISTS C;"
   ]
  },
  {
   "cell_type": "code",
   "execution_count": 26,
   "metadata": {},
   "outputs": [
    {
     "name": "stdout",
     "output_type": "stream",
     "text": [
      " * sqlite:///\n",
      "Done.\n",
      "Done.\n",
      "Done.\n",
      "Done.\n",
      "Done.\n",
      "Done.\n",
      "4 rows affected.\n",
      "3 rows affected.\n",
      "5 rows affected.\n"
     ]
    },
    {
     "data": {
      "text/plain": [
       "[]"
      ]
     },
     "execution_count": 26,
     "metadata": {},
     "output_type": "execute_result"
    }
   ],
   "source": [
    "%%sql\n",
    "DROP TABLE IF EXISTS A;\n",
    "DROP TABLE IF EXISTS B;\n",
    "DROP TABLE IF EXISTS C;\n",
    "\n",
    "\n",
    "create table A(x int, y int, z int);\n",
    "create table B(x int, y int, z int);\n",
    "create table C(x int, y int, z int);\n",
    "\n",
    "\n",
    "insert into A values (2,2,2),(2,1,2), (1,1,2),(1,2,2);\n",
    "insert into B values (2,2,2),(2,1,2), (1,1,2);\n",
    "\n",
    "insert into C values (2,2,2),(2,1,2), (1,1,2),(1,2,2), (3,2,2);"
   ]
  },
  {
   "cell_type": "code",
   "execution_count": 36,
   "metadata": {},
   "outputs": [
    {
     "name": "stdout",
     "output_type": "stream",
     "text": [
      " * sqlite:///\n",
      "Done.\n"
     ]
    },
    {
     "data": {
      "text/html": [
       "<table>\n",
       "    <tr>\n",
       "        <th>Z--&gt;x</th>\n",
       "    </tr>\n",
       "    <tr>\n",
       "        <td>0</td>\n",
       "    </tr>\n",
       "</table>"
      ],
      "text/plain": [
       "[(0,)]"
      ]
     },
     "execution_count": 36,
     "metadata": {},
     "output_type": "execute_result"
    }
   ],
   "source": [
    "%%sql\n",
    "/*check for Z-->>X*/\n",
    "select not exists (\n",
    "select * from B s1, B s2\n",
    "where s1.z=s2.z and  not exists (select * from B s3  where s1.z=s3.z and s3.x=s1.x and  s3.y=s2.y ) ) \"Z-->x\""
   ]
  },
  {
   "cell_type": "code",
   "execution_count": 31,
   "metadata": {},
   "outputs": [
    {
     "name": "stdout",
     "output_type": "stream",
     "text": [
      " * sqlite:///\n",
      "Done.\n"
     ]
    },
    {
     "data": {
      "text/html": [
       "<table>\n",
       "    <tr>\n",
       "        <th>x</th>\n",
       "        <th>y</th>\n",
       "        <th>z</th>\n",
       "    </tr>\n",
       "    <tr>\n",
       "        <td>2</td>\n",
       "        <td>2</td>\n",
       "        <td>2</td>\n",
       "    </tr>\n",
       "    <tr>\n",
       "        <td>2</td>\n",
       "        <td>1</td>\n",
       "        <td>2</td>\n",
       "    </tr>\n",
       "    <tr>\n",
       "        <td>1</td>\n",
       "        <td>1</td>\n",
       "        <td>2</td>\n",
       "    </tr>\n",
       "</table>"
      ],
      "text/plain": [
       "[(2, 2, 2), (2, 1, 2), (1, 1, 2)]"
      ]
     },
     "execution_count": 31,
     "metadata": {},
     "output_type": "execute_result"
    }
   ],
   "source": [
    "%sql select * from B"
   ]
  }
 ],
 "metadata": {
  "kernelspec": {
   "display_name": "Python 2",
   "language": "python",
   "name": "python2"
  },
  "language_info": {
   "codemirror_mode": {
    "name": "ipython",
    "version": 2
   },
   "file_extension": ".py",
   "mimetype": "text/x-python",
   "name": "python",
   "nbconvert_exporter": "python",
   "pygments_lexer": "ipython2",
   "version": "2.7.14"
  }
 },
 "nbformat": 4,
 "nbformat_minor": 1
}
